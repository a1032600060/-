{
 "cells": [
  {
   "cell_type": "code",
   "execution_count": 1,
   "metadata": {},
   "outputs": [
    {
     "ename": "SyntaxError",
     "evalue": "invalid character in identifier (<ipython-input-1-e92fd812fa92>, line 1)",
     "output_type": "error",
     "traceback": [
      "\u001b[1;36m  File \u001b[1;32m\"<ipython-input-1-e92fd812fa92>\"\u001b[1;36m, line \u001b[1;32m1\u001b[0m\n\u001b[1;33m    if 條件⼀:\u001b[0m\n\u001b[1;37m         ^\u001b[0m\n\u001b[1;31mSyntaxError\u001b[0m\u001b[1;31m:\u001b[0m invalid character in identifier\n"
     ]
    }
   ],
   "source": [
    "if 條件⼀:\n",
    " # 程式⼀\n",
    "elif 條件⼆:\n",
    " # 程式⼆\n",
    "else:\n",
    " # 程式三"
   ]
  },
  {
   "cell_type": "code",
   "execution_count": 2,
   "metadata": {},
   "outputs": [
    {
     "ename": "SyntaxError",
     "evalue": "invalid syntax (<ipython-input-2-4f98439ed724>, line 5)",
     "output_type": "error",
     "traceback": [
      "\u001b[1;36m  File \u001b[1;32m\"<ipython-input-2-4f98439ed724>\"\u001b[1;36m, line \u001b[1;32m5\u001b[0m\n\u001b[1;33m    print ()\"天氣是%s，去⼾外跑步\" % weather)\u001b[0m\n\u001b[1;37m                        ^\u001b[0m\n\u001b[1;31mSyntaxError\u001b[0m\u001b[1;31m:\u001b[0m invalid syntax\n"
     ]
    }
   ],
   "source": [
    "import random\n",
    "weathers = [\"晴天\", \"下雨\"]\n",
    "weather = weathers[random.randint(0, 1)]\n",
    "if weather == \"晴天\":\n",
    " print ()\"天氣是%s，去⼾外跑步\" % weather)\n",
    "else:\n",
    " print (\"天氣是%s，去健⾝房\" % weather)"
   ]
  },
  {
   "cell_type": "code",
   "execution_count": 3,
   "metadata": {},
   "outputs": [
    {
     "ename": "IndentationError",
     "evalue": "expected an indented block (<ipython-input-3-285d752b5e77>, line 3)",
     "output_type": "error",
     "traceback": [
      "\u001b[1;36m  File \u001b[1;32m\"<ipython-input-3-285d752b5e77>\"\u001b[1;36m, line \u001b[1;32m3\u001b[0m\n\u001b[1;33m    else:\u001b[0m\n\u001b[1;37m       ^\u001b[0m\n\u001b[1;31mIndentationError\u001b[0m\u001b[1;31m:\u001b[0m expected an indented block\n"
     ]
    }
   ],
   "source": [
    "if (a==b)and(a>b):\n",
    " #如果a等於b且a⼤於b，就執⾏這裡的敘述\n",
    "else:\n",
    " #如果a不等於b且a⼩於b，就執⾏這裡的敘述"
   ]
  },
  {
   "cell_type": "code",
   "execution_count": 4,
   "metadata": {},
   "outputs": [
    {
     "name": "stdout",
     "output_type": "stream",
     "text": [
      "天氣是晴天，去⼾外跑步\n"
     ]
    }
   ],
   "source": [
    "import random\n",
    "weathers = [\"晴天\", \"下雨\", \"暴風雨\"]\n",
    "weather = weathers[random.randint(0, 2)]\n",
    "if weather == \"晴天\":\n",
    " print (\"天氣是%s，去⼾外跑步\" % weather)\n",
    "elif weather == \"下雨\":\n",
    " print (\"天氣是%s，去健⾝房\" % weather)\n",
    "else:\n",
    " print (\"天氣是%s，睡回籠覺\" % weather)"
   ]
  },
  {
   "cell_type": "code",
   "execution_count": 5,
   "metadata": {},
   "outputs": [
    {
     "ename": "IndentationError",
     "evalue": "unexpected indent (<ipython-input-5-46dc02477c08>, line 2)",
     "output_type": "error",
     "traceback": [
      "\u001b[1;36m  File \u001b[1;32m\"<ipython-input-5-46dc02477c08>\"\u001b[1;36m, line \u001b[1;32m2\u001b[0m\n\u001b[1;33m    X if C else Y\u001b[0m\n\u001b[1;37m    ^\u001b[0m\n\u001b[1;31mIndentationError\u001b[0m\u001b[1;31m:\u001b[0m unexpected indent\n"
     ]
    }
   ],
   "source": [
    "# 條件表達式的格式\n",
    " X if C else Y"
   ]
  },
  {
   "cell_type": "code",
   "execution_count": 6,
   "metadata": {},
   "outputs": [
    {
     "ename": "NameError",
     "evalue": "name 'X' is not defined",
     "output_type": "error",
     "traceback": [
      "\u001b[1;31m---------------------------------------------------------------------------\u001b[0m",
      "\u001b[1;31mNameError\u001b[0m                                 Traceback (most recent call last)",
      "\u001b[1;32m<ipython-input-6-78fc53afe3fa>\u001b[0m in \u001b[0;36m<module>\u001b[1;34m()\u001b[0m\n\u001b[1;32m----> 1\u001b[1;33m \u001b[0mprint\u001b[0m\u001b[1;33m(\u001b[0m\u001b[1;34m'{0}'\u001b[0m\u001b[1;33m.\u001b[0m\u001b[0mformat\u001b[0m\u001b[1;33m(\u001b[0m\u001b[1;34m\"偶數\"\u001b[0m \u001b[1;32mif\u001b[0m \u001b[1;33m(\u001b[0m\u001b[0mX\u001b[0m\u001b[1;33m%\u001b[0m\u001b[1;36m2\u001b[0m\u001b[1;33m)\u001b[0m\u001b[1;33m==\u001b[0m\u001b[1;36m0\u001b[0m \u001b[1;32melse\u001b[0m \u001b[1;34m\"奇數\"\u001b[0m\u001b[1;33m)\u001b[0m\u001b[1;33m)\u001b[0m\u001b[1;33m\u001b[0m\u001b[0m\n\u001b[0m",
      "\u001b[1;31mNameError\u001b[0m: name 'X' is not defined"
     ]
    }
   ],
   "source": [
    "print('{0}'.format(\"偶數\" if (X%2)==0 else \"奇數\"))"
   ]
  },
  {
   "cell_type": "code",
   "execution_count": 7,
   "metadata": {},
   "outputs": [
    {
     "ename": "SyntaxError",
     "evalue": "Missing parentheses in call to 'print'. Did you mean print(starrings[0])? (<ipython-input-7-3205acb9eef0>, line 2)",
     "output_type": "error",
     "traceback": [
      "\u001b[1;36m  File \u001b[1;32m\"<ipython-input-7-3205acb9eef0>\"\u001b[1;36m, line \u001b[1;32m2\u001b[0m\n\u001b[1;33m    print starrings[0]\u001b[0m\n\u001b[1;37m                  ^\u001b[0m\n\u001b[1;31mSyntaxError\u001b[0m\u001b[1;31m:\u001b[0m Missing parentheses in call to 'print'. Did you mean print(starrings[0])?\n"
     ]
    }
   ],
   "source": [
    "starrings = [\"Jennifer Aniston\", \"Courteney Cox\", \"Lisa Kudrow\", \"Matt LeBlanc\", \"Matthew Perry\", \"David Schwimmer\"]\n",
    "print starrings[0]\n",
    "print starrings[1]\n",
    "print starrings[2]\n",
    "print starrings[3]\n",
    "print starrings[4]\n",
    "print starrings[5]"
   ]
  },
  {
   "cell_type": "code",
   "execution_count": 8,
   "metadata": {},
   "outputs": [
    {
     "ename": "SyntaxError",
     "evalue": "Missing parentheses in call to 'print'. Did you mean print(starrings[i])? (<ipython-input-8-39dad7ea9778>, line 4)",
     "output_type": "error",
     "traceback": [
      "\u001b[1;36m  File \u001b[1;32m\"<ipython-input-8-39dad7ea9778>\"\u001b[1;36m, line \u001b[1;32m4\u001b[0m\n\u001b[1;33m    print starrings[i]\u001b[0m\n\u001b[1;37m                  ^\u001b[0m\n\u001b[1;31mSyntaxError\u001b[0m\u001b[1;31m:\u001b[0m Missing parentheses in call to 'print'. Did you mean print(starrings[i])?\n"
     ]
    }
   ],
   "source": [
    "starrings = [\"Jennifer Aniston\", \"Courteney Cox\", \"Lisa Kudrow\", \"Matt LeBlanc\", \"Matthew Perry\", \"David Schwimmer\"]\n",
    "i = 0\n",
    "while i < 6:\n",
    " print starrings[i]\n",
    " i += 1"
   ]
  },
  {
   "cell_type": "code",
   "execution_count": 9,
   "metadata": {},
   "outputs": [
    {
     "ename": "SyntaxError",
     "evalue": "Missing parentheses in call to 'print'. Did you mean print(starrings[i])? (<ipython-input-9-cd8137f69494>, line 3)",
     "output_type": "error",
     "traceback": [
      "\u001b[1;36m  File \u001b[1;32m\"<ipython-input-9-cd8137f69494>\"\u001b[1;36m, line \u001b[1;32m3\u001b[0m\n\u001b[1;33m    print starrings[i]\u001b[0m\n\u001b[1;37m                  ^\u001b[0m\n\u001b[1;31mSyntaxError\u001b[0m\u001b[1;31m:\u001b[0m Missing parentheses in call to 'print'. Did you mean print(starrings[i])?\n"
     ]
    }
   ],
   "source": [
    "starrings = [\"Jennifer Aniston\", \"Courteney Cox\", \"Lisa Kudrow\", \"Matt LeBlanc\", \"Matthew Perry\", \"David Schwimmer\"]\n",
    "for i in range(len(starrings)):\n",
    " print starrings[i]"
   ]
  },
  {
   "cell_type": "code",
   "execution_count": 10,
   "metadata": {},
   "outputs": [
    {
     "ename": "SyntaxError",
     "evalue": "invalid syntax (<ipython-input-10-52b01b25e3a9>, line 3)",
     "output_type": "error",
     "traceback": [
      "\u001b[1;36m  File \u001b[1;32m\"<ipython-input-10-52b01b25e3a9>\"\u001b[1;36m, line \u001b[1;32m3\u001b[0m\n\u001b[1;33m    print \"%i: %s\" % (index, starring)\u001b[0m\n\u001b[1;37m                 ^\u001b[0m\n\u001b[1;31mSyntaxError\u001b[0m\u001b[1;31m:\u001b[0m invalid syntax\n"
     ]
    }
   ],
   "source": [
    "starrings = [\"Jennifer Aniston\", \"Courteney Cox\", \"Lisa Kudrow\", \"Matt LeBlanc\", \"Matthew Perry\", \"David Schwimmer\"]\n",
    "for (index, starring) in enumerate(starrings):\n",
    " print \"%i: %s\" % (index, starring)"
   ]
  },
  {
   "cell_type": "code",
   "execution_count": 11,
   "metadata": {},
   "outputs": [
    {
     "ename": "SyntaxError",
     "evalue": "Missing parentheses in call to 'print'. Did you mean print(character + \" 由 \" + star + \" 主演)? (<ipython-input-11-0e75bef8581c>, line 4)",
     "output_type": "error",
     "traceback": [
      "\u001b[1;36m  File \u001b[1;32m\"<ipython-input-11-0e75bef8581c>\"\u001b[1;36m, line \u001b[1;32m4\u001b[0m\n\u001b[1;33m    print character + \" 由 \" + star + \" 主演\u001b[0m\n\u001b[1;37m                  ^\u001b[0m\n\u001b[1;31mSyntaxError\u001b[0m\u001b[1;31m:\u001b[0m Missing parentheses in call to 'print'. Did you mean print(character + \" 由 \" + star + \" 主演)?\n"
     ]
    }
   ],
   "source": [
    "characters = [\"Rachel Green\", \"Monica Geller\", \"Phoebe Buffay\", \"Joey Tribbiani\", \"Chandler Bing\", \"Ross Geller\"]\n",
    "starrings = [\"Jennifer Aniston\", \"Courteney Cox\", \"Lisa Kudrow\", \"Matt LeBlanc\", \"Matthew Perry\", \"David Schwimmer\"]\n",
    "for (character, star) in zip(characters, starrings):\n",
    " print character + \" 由 \" + star + \" 主演"
   ]
  },
  {
   "cell_type": "code",
   "execution_count": 12,
   "metadata": {},
   "outputs": [
    {
     "ename": "SyntaxError",
     "evalue": "Missing parentheses in call to 'print'. Did you mean print(starring)? (<ipython-input-12-11af8eae3b6d>, line 3)",
     "output_type": "error",
     "traceback": [
      "\u001b[1;36m  File \u001b[1;32m\"<ipython-input-12-11af8eae3b6d>\"\u001b[1;36m, line \u001b[1;32m3\u001b[0m\n\u001b[1;33m    print starring\u001b[0m\n\u001b[1;37m                 ^\u001b[0m\n\u001b[1;31mSyntaxError\u001b[0m\u001b[1;31m:\u001b[0m Missing parentheses in call to 'print'. Did you mean print(starring)?\n"
     ]
    }
   ],
   "source": [
    "starrings = [\"Jennifer Aniston\", \"Courteney Cox\", \"Lisa Kudrow\", \"Matt LeBlanc\", \"Matthew Perry\", \"David Schwimmer\"]\n",
    "for starring in starrings:\n",
    " print starring"
   ]
  },
  {
   "cell_type": "code",
   "execution_count": 13,
   "metadata": {},
   "outputs": [
    {
     "ename": "SyntaxError",
     "evalue": "Missing parentheses in call to 'print'. Did you mean print(starring)? (<ipython-input-13-66cc63b2e804>, line 10)",
     "output_type": "error",
     "traceback": [
      "\u001b[1;36m  File \u001b[1;32m\"<ipython-input-13-66cc63b2e804>\"\u001b[1;36m, line \u001b[1;32m10\u001b[0m\n\u001b[1;33m    print starring\u001b[0m\n\u001b[1;37m                 ^\u001b[0m\n\u001b[1;31mSyntaxError\u001b[0m\u001b[1;31m:\u001b[0m Missing parentheses in call to 'print'. Did you mean print(starring)?\n"
     ]
    }
   ],
   "source": [
    "starrings = {\n",
    " \"Rachel Green\": \"Jennifer Aniston\",\n",
    " \"Monica Geller\": \"Courteney Cox\",\n",
    " \"Phoebe Buffay\": \"Lisa Kudrow\",\n",
    " \"Joey Tribbiani\": \"Matt LeBlanc\",\n",
    " \"Chandler Bing\": \"Matthew Perry\",\n",
    " \"Ross Geller\": \"David Schwimmer\"\n",
    "}\n",
    "for starring in starrings:\n",
    " print starring"
   ]
  },
  {
   "cell_type": "code",
   "execution_count": 14,
   "metadata": {},
   "outputs": [
    {
     "ename": "SyntaxError",
     "evalue": "invalid syntax (<ipython-input-14-2c6f1b233fb2>, line 8)",
     "output_type": "error",
     "traceback": [
      "\u001b[1;36m  File \u001b[1;32m\"<ipython-input-14-2c6f1b233fb2>\"\u001b[1;36m, line \u001b[1;32m8\u001b[0m\n\u001b[1;33m    }for starring in starrings.keys():\u001b[0m\n\u001b[1;37m       ^\u001b[0m\n\u001b[1;31mSyntaxError\u001b[0m\u001b[1;31m:\u001b[0m invalid syntax\n"
     ]
    }
   ],
   "source": [
    "starrings = {\n",
    " \"Rachel Green\": \"Jennifer Aniston\",\n",
    " \"Monica Geller\": \"Courteney Cox\",\n",
    " \"Phoebe Buffay\": \"Lisa Kudrow\",\n",
    " \"Joey Tribbiani\": \"Matt LeBlanc\",\n",
    " \"Chandler Bing\": \"Matthew Perry\",\n",
    " \"Ross Geller\": \"David Schwimmer\"\n",
    "}for starring in starrings.keys():\n",
    " print starring\n",
    "print(\"---\")\n",
    "for starring in starrings.values():\n",
    " print starring"
   ]
  },
  {
   "cell_type": "code",
   "execution_count": 15,
   "metadata": {},
   "outputs": [
    {
     "ename": "SyntaxError",
     "evalue": "invalid syntax (<ipython-input-15-2579b92e20c2>, line 10)",
     "output_type": "error",
     "traceback": [
      "\u001b[1;36m  File \u001b[1;32m\"<ipython-input-15-2579b92e20c2>\"\u001b[1;36m, line \u001b[1;32m10\u001b[0m\n\u001b[1;33m    print \"%s 由 %s 演出\" % (key, value)\u001b[0m\n\u001b[1;37m                     ^\u001b[0m\n\u001b[1;31mSyntaxError\u001b[0m\u001b[1;31m:\u001b[0m invalid syntax\n"
     ]
    }
   ],
   "source": [
    "starrings = {\n",
    " \"Rachel Green\": \"Jennifer Aniston\",\n",
    " \"Monica Geller\": \"Courteney Cox\",\n",
    " \"Phoebe Buffay\": \"Lisa Kudrow\",\n",
    " \"Joey Tribbiani\": \"Matt LeBlanc\",\n",
    " \"Chandler Bing\": \"Matthew Perry\",\n",
    " \"Ross Geller\": \"David Schwimmer\"\n",
    "}\n",
    "for (key, value) in starrings.items():\n",
    " print \"%s 由 %s 演出\" % (key, value)"
   ]
  },
  {
   "cell_type": "code",
   "execution_count": 16,
   "metadata": {},
   "outputs": [
    {
     "ename": "SyntaxError",
     "evalue": "Missing parentheses in call to 'print'. Did you mean print(character + \" 由 \" + star + \" 主演\")? (<ipython-input-16-6c6e5b044d8e>, line 10)",
     "output_type": "error",
     "traceback": [
      "\u001b[1;36m  File \u001b[1;32m\"<ipython-input-16-6c6e5b044d8e>\"\u001b[1;36m, line \u001b[1;32m10\u001b[0m\n\u001b[1;33m    print character + \" 由 \" + star + \" 主演\"\u001b[0m\n\u001b[1;37m                  ^\u001b[0m\n\u001b[1;31mSyntaxError\u001b[0m\u001b[1;31m:\u001b[0m Missing parentheses in call to 'print'. Did you mean print(character + \" 由 \" + star + \" 主演\")?\n"
     ]
    }
   ],
   "source": [
    "starrings = [\n",
    " (\"Rachel Green\", \"Jennifer Aniston\"),\n",
    " (\"Monica Geller\", \"Courteney Cox\"),\n",
    " (\"Phoebe Buffay\", \"Lisa Kudrow\"),\n",
    " (\"Joey Tribbiani\", \"Matt LeBlanc\"),\n",
    " (\"Chandler Bing\", \"Matthew Perry\"),\n",
    " (\"Ross Geller\", \"David Schwimmer\")\n",
    "]\n",
    "for (character, star) in starrings:\n",
    " print character + \" 由 \" + star + \" 主演\""
   ]
  },
  {
   "cell_type": "code",
   "execution_count": 17,
   "metadata": {},
   "outputs": [
    {
     "ename": "SyntaxError",
     "evalue": "Missing parentheses in call to 'print'. Did you mean print(coin_flips # 印出每次投擲的紀錄)? (<ipython-input-17-b8bebe6abf0c>, line 6)",
     "output_type": "error",
     "traceback": [
      "\u001b[1;36m  File \u001b[1;32m\"<ipython-input-17-b8bebe6abf0c>\"\u001b[1;36m, line \u001b[1;32m6\u001b[0m\n\u001b[1;33m    print coin_flips # 印出每次投擲的紀錄\u001b[0m\n\u001b[1;37m                   ^\u001b[0m\n\u001b[1;31mSyntaxError\u001b[0m\u001b[1;31m:\u001b[0m Missing parentheses in call to 'print'. Did you mean print(coin_flips # 印出每次投擲的紀錄)?\n"
     ]
    }
   ],
   "source": [
    "import random\n",
    "coin_flips = [] # 建立⼀個空的清單放置每⼀次投擲的結果\n",
    "coin = [\"Head\", \"Tail\"]\n",
    "while coin_flips.count(\"Head\") < 3:\n",
    " coin_flips.append(coin[random.randint(0, 1)])\n",
    "print coin_flips # 印出每次投擲的紀錄\n",
    "print len(coin_flips) # 總共投擲了幾次"
   ]
  },
  {
   "cell_type": "code",
   "execution_count": 18,
   "metadata": {},
   "outputs": [
    {
     "ename": "IndentationError",
     "evalue": "expected an indented block (<ipython-input-18-5ac1200e94c9>, line 3)",
     "output_type": "error",
     "traceback": [
      "\u001b[1;36m  File \u001b[1;32m\"<ipython-input-18-5ac1200e94c9>\"\u001b[1;36m, line \u001b[1;32m3\u001b[0m\n\u001b[1;33m    break\u001b[0m\n\u001b[1;37m        ^\u001b[0m\n\u001b[1;31mIndentationError\u001b[0m\u001b[1;31m:\u001b[0m expected an indented block\n"
     ]
    }
   ],
   "source": [
    "for x in range(1,10):\n",
    " if x==5:\n",
    " break\n",
    " print(x, end=\" \")\n",
    "for x in range(1,10):\n",
    " if x==5:\n",
    " continue\n",
    " print(x, end=\" \")"
   ]
  },
  {
   "cell_type": "code",
   "execution_count": 19,
   "metadata": {},
   "outputs": [
    {
     "ename": "IndentationError",
     "evalue": "expected an indented block (<ipython-input-19-3bd4aaa31a3c>, line 4)",
     "output_type": "error",
     "traceback": [
      "\u001b[1;36m  File \u001b[1;32m\"<ipython-input-19-3bd4aaa31a3c>\"\u001b[1;36m, line \u001b[1;32m4\u001b[0m\n\u001b[1;33m    break\u001b[0m\n\u001b[1;37m        ^\u001b[0m\n\u001b[1;31mIndentationError\u001b[0m\u001b[1;31m:\u001b[0m expected an indented block\n"
     ]
    }
   ],
   "source": [
    "starrings = [\"Jennifer Aniston\", \"Courteney Cox\", \"Lisa Kudrow\", \"Matt LeBlanc\", \"Matthew Perry\", \"David Schwimmer\"]\n",
    "for starring in starrings:\n",
    " if starring == \"Matt LeBlanc\":\n",
    " break\n",
    " print starring"
   ]
  },
  {
   "cell_type": "code",
   "execution_count": 20,
   "metadata": {},
   "outputs": [
    {
     "ename": "IndentationError",
     "evalue": "expected an indented block (<ipython-input-20-214fcdeebfd4>, line 4)",
     "output_type": "error",
     "traceback": [
      "\u001b[1;36m  File \u001b[1;32m\"<ipython-input-20-214fcdeebfd4>\"\u001b[1;36m, line \u001b[1;32m4\u001b[0m\n\u001b[1;33m    continue\u001b[0m\n\u001b[1;37m           ^\u001b[0m\n\u001b[1;31mIndentationError\u001b[0m\u001b[1;31m:\u001b[0m expected an indented block\n"
     ]
    }
   ],
   "source": [
    "starrings = [\"Jennifer Aniston\", \"Courteney Cox\", \"Lisa Kudrow\", \"Matt LeBlanc\", \"Matthew Perry\", \"David Schwimmer\"]\n",
    "for starring in starrings:\n",
    " if starring == \"Matt LeBlanc\":\n",
    " continue\n",
    " print starring"
   ]
  },
  {
   "cell_type": "code",
   "execution_count": null,
   "metadata": {},
   "outputs": [],
   "source": []
  }
 ],
 "metadata": {
  "kernelspec": {
   "display_name": "Python 3",
   "language": "python",
   "name": "python3"
  },
  "language_info": {
   "codemirror_mode": {
    "name": "ipython",
    "version": 3
   },
   "file_extension": ".py",
   "mimetype": "text/x-python",
   "name": "python",
   "nbconvert_exporter": "python",
   "pygments_lexer": "ipython3",
   "version": "3.6.5"
  }
 },
 "nbformat": 4,
 "nbformat_minor": 2
}
