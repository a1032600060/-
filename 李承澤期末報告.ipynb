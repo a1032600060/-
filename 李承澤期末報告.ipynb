{
  "nbformat": 4,
  "nbformat_minor": 0,
  "metadata": {
    "colab": {
      "name": "Untitled5.ipynb",
      "version": "0.3.2",
      "provenance": []
    },
    "kernelspec": {
      "name": "python3",
      "display_name": "Python 3"
    }
  },
  "cells": [
    {
      "metadata": {
        "id": "nmAV1mwJYHIE",
        "colab_type": "code",
        "colab": {
          "base_uri": "https://localhost:8080/",
          "height": 34
        },
        "outputId": "a21d1ef8-076c-4dd9-f1df-80e31bc6be8a"
      },
      "cell_type": "code",
      "source": [
        "import matplotlib.pyplot as plt\n",
        "import pandas as pd\n",
        "\n",
        "gapminder = pd.read_csv(\"referendum.csv\")\n",
        "gapminder.shape"
      ],
      "execution_count": 18,
      "outputs": [
        {
          "output_type": "execute_result",
          "data": {
            "text/plain": [
              "(158870, 10)"
            ]
          },
          "metadata": {
            "tags": []
          },
          "execution_count": 18
        }
      ]
    },
    {
      "metadata": {
        "id": "l1RbcgB7Yaxw",
        "colab_type": "code",
        "colab": {
          "base_uri": "https://localhost:8080/",
          "height": 224
        },
        "outputId": "7b352e57-f77a-45a9-c1e4-6c60149d90d8"
      },
      "cell_type": "code",
      "source": [
        "gapminder.head()"
      ],
      "execution_count": 19,
      "outputs": [
        {
          "output_type": "execute_result",
          "data": {
            "text/html": [
              "<div>\n",
              "<style scoped>\n",
              "    .dataframe tbody tr th:only-of-type {\n",
              "        vertical-align: middle;\n",
              "    }\n",
              "\n",
              "    .dataframe tbody tr th {\n",
              "        vertical-align: top;\n",
              "    }\n",
              "\n",
              "    .dataframe thead th {\n",
              "        text-align: right;\n",
              "    }\n",
              "</style>\n",
              "<table border=\"1\" class=\"dataframe\">\n",
              "  <thead>\n",
              "    <tr style=\"text-align: right;\">\n",
              "      <th></th>\n",
              "      <th>admin_region</th>\n",
              "      <th>ref_num</th>\n",
              "      <th>district</th>\n",
              "      <th>village</th>\n",
              "      <th>office</th>\n",
              "      <th>agree</th>\n",
              "      <th>disagree</th>\n",
              "      <th>invalid_votes</th>\n",
              "      <th>issued_votes</th>\n",
              "      <th>remaining_votes</th>\n",
              "    </tr>\n",
              "  </thead>\n",
              "  <tbody>\n",
              "    <tr>\n",
              "      <th>0</th>\n",
              "      <td>台北市</td>\n",
              "      <td>第7案</td>\n",
              "      <td>北投區</td>\n",
              "      <td>建民里</td>\n",
              "      <td>1</td>\n",
              "      <td>556</td>\n",
              "      <td>178</td>\n",
              "      <td>68</td>\n",
              "      <td>802</td>\n",
              "      <td>511</td>\n",
              "    </tr>\n",
              "    <tr>\n",
              "      <th>1</th>\n",
              "      <td>台北市</td>\n",
              "      <td>第7案</td>\n",
              "      <td>北投區</td>\n",
              "      <td>建民里</td>\n",
              "      <td>2</td>\n",
              "      <td>582</td>\n",
              "      <td>237</td>\n",
              "      <td>45</td>\n",
              "      <td>867</td>\n",
              "      <td>536</td>\n",
              "    </tr>\n",
              "    <tr>\n",
              "      <th>2</th>\n",
              "      <td>台北市</td>\n",
              "      <td>第7案</td>\n",
              "      <td>北投區</td>\n",
              "      <td>建民里</td>\n",
              "      <td>3</td>\n",
              "      <td>427</td>\n",
              "      <td>184</td>\n",
              "      <td>55</td>\n",
              "      <td>666</td>\n",
              "      <td>415</td>\n",
              "    </tr>\n",
              "    <tr>\n",
              "      <th>3</th>\n",
              "      <td>台北市</td>\n",
              "      <td>第7案</td>\n",
              "      <td>北投區</td>\n",
              "      <td>文林里</td>\n",
              "      <td>4</td>\n",
              "      <td>510</td>\n",
              "      <td>164</td>\n",
              "      <td>52</td>\n",
              "      <td>726</td>\n",
              "      <td>483</td>\n",
              "    </tr>\n",
              "    <tr>\n",
              "      <th>4</th>\n",
              "      <td>台北市</td>\n",
              "      <td>第7案</td>\n",
              "      <td>北投區</td>\n",
              "      <td>文林里</td>\n",
              "      <td>5</td>\n",
              "      <td>530</td>\n",
              "      <td>188</td>\n",
              "      <td>54</td>\n",
              "      <td>772</td>\n",
              "      <td>554</td>\n",
              "    </tr>\n",
              "  </tbody>\n",
              "</table>\n",
              "</div>"
            ],
            "text/plain": [
              "  admin_region ref_num district village  office  agree  disagree  \\\n",
              "0          台北市     第7案      北投區     建民里       1    556       178   \n",
              "1          台北市     第7案      北投區     建民里       2    582       237   \n",
              "2          台北市     第7案      北投區     建民里       3    427       184   \n",
              "3          台北市     第7案      北投區     文林里       4    510       164   \n",
              "4          台北市     第7案      北投區     文林里       5    530       188   \n",
              "\n",
              "   invalid_votes  issued_votes  remaining_votes  \n",
              "0             68           802              511  \n",
              "1             45           867              536  \n",
              "2             55           666              415  \n",
              "3             52           726              483  \n",
              "4             54           772              554  "
            ]
          },
          "metadata": {
            "tags": []
          },
          "execution_count": 19
        }
      ]
    },
    {
      "metadata": {
        "id": "LpAuc0RXcHGh",
        "colab_type": "code",
        "colab": {
          "base_uri": "https://localhost:8080/",
          "height": 360
        },
        "outputId": "7519bdc0-1184-4f98-b1d5-09facf3a1935"
      },
      "cell_type": "code",
      "source": [
        "gapminder.tail()"
      ],
      "execution_count": 20,
      "outputs": [
        {
          "output_type": "execute_result",
          "data": {
            "text/html": [
              "<div>\n",
              "<style scoped>\n",
              "    .dataframe tbody tr th:only-of-type {\n",
              "        vertical-align: middle;\n",
              "    }\n",
              "\n",
              "    .dataframe tbody tr th {\n",
              "        vertical-align: top;\n",
              "    }\n",
              "\n",
              "    .dataframe thead th {\n",
              "        text-align: right;\n",
              "    }\n",
              "</style>\n",
              "<table border=\"1\" class=\"dataframe\">\n",
              "  <thead>\n",
              "    <tr style=\"text-align: right;\">\n",
              "      <th></th>\n",
              "      <th>admin_region</th>\n",
              "      <th>ref_num</th>\n",
              "      <th>district</th>\n",
              "      <th>village</th>\n",
              "      <th>office</th>\n",
              "      <th>agree</th>\n",
              "      <th>disagree</th>\n",
              "      <th>invalid_votes</th>\n",
              "      <th>issued_votes</th>\n",
              "      <th>remaining_votes</th>\n",
              "    </tr>\n",
              "  </thead>\n",
              "  <tbody>\n",
              "    <tr>\n",
              "      <th>158865</th>\n",
              "      <td>連江縣</td>\n",
              "      <td>第16案</td>\n",
              "      <td>北竿鄉</td>\n",
              "      <td>后沃村、橋仔村、塘岐村</td>\n",
              "      <td>5</td>\n",
              "      <td>522</td>\n",
              "      <td>240</td>\n",
              "      <td>55</td>\n",
              "      <td>817</td>\n",
              "      <td>698</td>\n",
              "    </tr>\n",
              "    <tr>\n",
              "      <th>158866</th>\n",
              "      <td>連江縣</td>\n",
              "      <td>第16案</td>\n",
              "      <td>北竿鄉</td>\n",
              "      <td>坂里村、白沙村、芹壁村</td>\n",
              "      <td>6</td>\n",
              "      <td>185</td>\n",
              "      <td>96</td>\n",
              "      <td>12</td>\n",
              "      <td>293</td>\n",
              "      <td>317</td>\n",
              "    </tr>\n",
              "    <tr>\n",
              "      <th>158867</th>\n",
              "      <td>連江縣</td>\n",
              "      <td>第16案</td>\n",
              "      <td>莒光鄉</td>\n",
              "      <td>田沃村、西坵村、青帆村</td>\n",
              "      <td>7</td>\n",
              "      <td>224</td>\n",
              "      <td>94</td>\n",
              "      <td>20</td>\n",
              "      <td>338</td>\n",
              "      <td>360</td>\n",
              "    </tr>\n",
              "    <tr>\n",
              "      <th>158868</th>\n",
              "      <td>連江縣</td>\n",
              "      <td>第16案</td>\n",
              "      <td>莒光鄉</td>\n",
              "      <td>大坪村、福正村</td>\n",
              "      <td>8</td>\n",
              "      <td>278</td>\n",
              "      <td>130</td>\n",
              "      <td>37</td>\n",
              "      <td>445</td>\n",
              "      <td>338</td>\n",
              "    </tr>\n",
              "    <tr>\n",
              "      <th>158869</th>\n",
              "      <td>連江縣</td>\n",
              "      <td>第16案</td>\n",
              "      <td>東引鄉</td>\n",
              "      <td>樂華村、中柳村</td>\n",
              "      <td>9</td>\n",
              "      <td>354</td>\n",
              "      <td>200</td>\n",
              "      <td>26</td>\n",
              "      <td>580</td>\n",
              "      <td>558</td>\n",
              "    </tr>\n",
              "  </tbody>\n",
              "</table>\n",
              "</div>"
            ],
            "text/plain": [
              "       admin_region ref_num district      village  office  agree  disagree  \\\n",
              "158865          連江縣    第16案      北竿鄉  后沃村、橋仔村、塘岐村       5    522       240   \n",
              "158866          連江縣    第16案      北竿鄉  坂里村、白沙村、芹壁村       6    185        96   \n",
              "158867          連江縣    第16案      莒光鄉  田沃村、西坵村、青帆村       7    224        94   \n",
              "158868          連江縣    第16案      莒光鄉      大坪村、福正村       8    278       130   \n",
              "158869          連江縣    第16案      東引鄉      樂華村、中柳村       9    354       200   \n",
              "\n",
              "        invalid_votes  issued_votes  remaining_votes  \n",
              "158865             55           817              698  \n",
              "158866             12           293              317  \n",
              "158867             20           338              360  \n",
              "158868             37           445              338  \n",
              "158869             26           580              558  "
            ]
          },
          "metadata": {
            "tags": []
          },
          "execution_count": 20
        }
      ]
    },
    {
      "metadata": {
        "id": "UHv7MlnIe8TN",
        "colab_type": "code",
        "colab": {
          "base_uri": "https://localhost:8080/",
          "height": 68
        },
        "outputId": "10c13735-f574-4435-9151-ad92f303bc9e"
      },
      "cell_type": "code",
      "source": [
        "gapminder[\"admin_region\"].unique()"
      ],
      "execution_count": 26,
      "outputs": [
        {
          "output_type": "execute_result",
          "data": {
            "text/plain": [
              "array(['台北市', '新北市', '桃園市', '台中市', '台南市', '高雄市', '新竹縣', '苗栗縣', '彰化縣',\n",
              "       '南投縣', '雲林縣', '嘉義縣', '屏東縣', '宜蘭縣', '花蓮縣', '台東縣', '澎湖縣', '基隆市',\n",
              "       '新竹市', '嘉義市', '金門縣', '連江縣'], dtype=object)"
            ]
          },
          "metadata": {
            "tags": []
          },
          "execution_count": 26
        }
      ]
    },
    {
      "metadata": {
        "id": "vobax8hIc7ZE",
        "colab_type": "code",
        "colab": {
          "base_uri": "https://localhost:8080/",
          "height": 224
        },
        "outputId": "742d71da-9d7d-4fcf-8db5-6d7560326544"
      },
      "cell_type": "code",
      "source": [
        "gapminder_台北市 = gapminder[gapminder[\"admin_region\"] == \"台北市\"]\n",
        "gapminder_台北市.head()"
      ],
      "execution_count": 28,
      "outputs": [
        {
          "output_type": "execute_result",
          "data": {
            "text/html": [
              "<div>\n",
              "<style scoped>\n",
              "    .dataframe tbody tr th:only-of-type {\n",
              "        vertical-align: middle;\n",
              "    }\n",
              "\n",
              "    .dataframe tbody tr th {\n",
              "        vertical-align: top;\n",
              "    }\n",
              "\n",
              "    .dataframe thead th {\n",
              "        text-align: right;\n",
              "    }\n",
              "</style>\n",
              "<table border=\"1\" class=\"dataframe\">\n",
              "  <thead>\n",
              "    <tr style=\"text-align: right;\">\n",
              "      <th></th>\n",
              "      <th>admin_region</th>\n",
              "      <th>ref_num</th>\n",
              "      <th>district</th>\n",
              "      <th>village</th>\n",
              "      <th>office</th>\n",
              "      <th>agree</th>\n",
              "      <th>disagree</th>\n",
              "      <th>invalid_votes</th>\n",
              "      <th>issued_votes</th>\n",
              "      <th>remaining_votes</th>\n",
              "    </tr>\n",
              "  </thead>\n",
              "  <tbody>\n",
              "    <tr>\n",
              "      <th>0</th>\n",
              "      <td>台北市</td>\n",
              "      <td>第7案</td>\n",
              "      <td>北投區</td>\n",
              "      <td>建民里</td>\n",
              "      <td>1</td>\n",
              "      <td>556</td>\n",
              "      <td>178</td>\n",
              "      <td>68</td>\n",
              "      <td>802</td>\n",
              "      <td>511</td>\n",
              "    </tr>\n",
              "    <tr>\n",
              "      <th>1</th>\n",
              "      <td>台北市</td>\n",
              "      <td>第7案</td>\n",
              "      <td>北投區</td>\n",
              "      <td>建民里</td>\n",
              "      <td>2</td>\n",
              "      <td>582</td>\n",
              "      <td>237</td>\n",
              "      <td>45</td>\n",
              "      <td>867</td>\n",
              "      <td>536</td>\n",
              "    </tr>\n",
              "    <tr>\n",
              "      <th>2</th>\n",
              "      <td>台北市</td>\n",
              "      <td>第7案</td>\n",
              "      <td>北投區</td>\n",
              "      <td>建民里</td>\n",
              "      <td>3</td>\n",
              "      <td>427</td>\n",
              "      <td>184</td>\n",
              "      <td>55</td>\n",
              "      <td>666</td>\n",
              "      <td>415</td>\n",
              "    </tr>\n",
              "    <tr>\n",
              "      <th>3</th>\n",
              "      <td>台北市</td>\n",
              "      <td>第7案</td>\n",
              "      <td>北投區</td>\n",
              "      <td>文林里</td>\n",
              "      <td>4</td>\n",
              "      <td>510</td>\n",
              "      <td>164</td>\n",
              "      <td>52</td>\n",
              "      <td>726</td>\n",
              "      <td>483</td>\n",
              "    </tr>\n",
              "    <tr>\n",
              "      <th>4</th>\n",
              "      <td>台北市</td>\n",
              "      <td>第7案</td>\n",
              "      <td>北投區</td>\n",
              "      <td>文林里</td>\n",
              "      <td>5</td>\n",
              "      <td>530</td>\n",
              "      <td>188</td>\n",
              "      <td>54</td>\n",
              "      <td>772</td>\n",
              "      <td>554</td>\n",
              "    </tr>\n",
              "  </tbody>\n",
              "</table>\n",
              "</div>"
            ],
            "text/plain": [
              "  admin_region ref_num district village  office  agree  disagree  \\\n",
              "0          台北市     第7案      北投區     建民里       1    556       178   \n",
              "1          台北市     第7案      北投區     建民里       2    582       237   \n",
              "2          台北市     第7案      北投區     建民里       3    427       184   \n",
              "3          台北市     第7案      北投區     文林里       4    510       164   \n",
              "4          台北市     第7案      北投區     文林里       5    530       188   \n",
              "\n",
              "   invalid_votes  issued_votes  remaining_votes  \n",
              "0             68           802              511  \n",
              "1             45           867              536  \n",
              "2             55           666              415  \n",
              "3             52           726              483  \n",
              "4             54           772              554  "
            ]
          },
          "metadata": {
            "tags": []
          },
          "execution_count": 28
        }
      ]
    },
    {
      "metadata": {
        "id": "VkF04zgteSw_",
        "colab_type": "code",
        "colab": {}
      },
      "cell_type": "code",
      "source": [
        "grouped = gapminder_台北市.groupby(\"disagree\")\n",
        "village_counts_ser = grouped[\"village\"].count().sort_values(ascending=False)"
      ],
      "execution_count": 0,
      "outputs": []
    },
    {
      "metadata": {
        "id": "svbUHglFf1ox",
        "colab_type": "code",
        "colab": {
          "base_uri": "https://localhost:8080/",
          "height": 85
        },
        "outputId": "692d6e81-c916-4657-8412-145e56289549"
      },
      "cell_type": "code",
      "source": [
        "village_counts_ser.index"
      ],
      "execution_count": 40,
      "outputs": [
        {
          "output_type": "execute_result",
          "data": {
            "text/plain": [
              "Int64Index([194, 175, 161, 197, 174, 192, 181, 185, 180, 186,\n",
              "            ...\n",
              "            647, 650, 658, 659, 661, 666, 667, 668, 671,  11],\n",
              "           dtype='int64', name='disagree', length=630)"
            ]
          },
          "metadata": {
            "tags": []
          },
          "execution_count": 40
        }
      ]
    },
    {
      "metadata": {
        "id": "F-mpfaaBi_SP",
        "colab_type": "code",
        "colab": {
          "base_uri": "https://localhost:8080/",
          "height": 663
        },
        "outputId": "aa2b06b2-5a3c-4001-8662-847a46389c35"
      },
      "cell_type": "code",
      "source": [
        "village_counts_ser.values"
      ],
      "execution_count": 42,
      "outputs": [
        {
          "output_type": "execute_result",
          "data": {
            "text/plain": [
              "array([78, 73, 70, 68, 68, 66, 65, 65, 64, 64, 63, 63, 63, 62, 62, 61, 61,\n",
              "       61, 61, 60, 60, 59, 59, 58, 58, 58, 57, 57, 57, 57, 57, 57, 56, 56,\n",
              "       56, 55, 55, 55, 54, 54, 54, 54, 54, 54, 54, 54, 54, 54, 53, 53, 53,\n",
              "       53, 53, 53, 53, 53, 53, 52, 52, 52, 52, 52, 52, 51, 51, 51, 51, 50,\n",
              "       50, 50, 50, 49, 49, 49, 49, 49, 49, 49, 48, 48, 48, 48, 48, 48, 47,\n",
              "       47, 46, 46, 46, 46, 46, 46, 46, 46, 46, 46, 46, 46, 46, 45, 45, 45,\n",
              "       45, 45, 45, 45, 45, 45, 44, 44, 44, 44, 44, 44, 44, 44, 44, 43, 43,\n",
              "       43, 43, 43, 43, 43, 43, 42, 42, 42, 42, 42, 42, 42, 41, 41, 41, 41,\n",
              "       41, 41, 41, 41, 41, 41, 41, 41, 41, 41, 40, 40, 40, 40, 40, 40, 40,\n",
              "       40, 40, 39, 39, 39, 39, 39, 39, 38, 38, 38, 38, 38, 38, 38, 37, 37,\n",
              "       37, 37, 36, 36, 36, 36, 36, 36, 36, 36, 36, 35, 35, 35, 35, 35, 35,\n",
              "       35, 35, 35, 35, 35, 34, 34, 34, 34, 34, 34, 34, 33, 33, 33, 33, 33,\n",
              "       33, 33, 33, 33, 33, 33, 33, 33, 33, 33, 32, 32, 32, 32, 32, 32, 32,\n",
              "       31, 31, 31, 31, 31, 31, 31, 31, 31, 31, 30, 30, 30, 30, 30, 30, 30,\n",
              "       30, 29, 29, 29, 29, 29, 29, 29, 29, 29, 29, 29, 29, 28, 28, 28, 28,\n",
              "       28, 28, 28, 28, 28, 28, 28, 28, 28, 28, 28, 27, 27, 27, 27, 27, 27,\n",
              "       27, 27, 27, 27, 27, 27, 27, 26, 26, 26, 26, 26, 26, 26, 26, 26, 25,\n",
              "       25, 25, 25, 25, 25, 25, 25, 25, 25, 25, 25, 25, 24, 24, 24, 24, 24,\n",
              "       24, 24, 24, 24, 23, 23, 23, 23, 23, 23, 23, 23, 23, 23, 23, 22, 22,\n",
              "       22, 22, 22, 22, 22, 22, 22, 22, 21, 21, 21, 21, 21, 21, 21, 21, 21,\n",
              "       21, 21, 21, 21, 21, 21, 20, 20, 20, 20, 20, 20, 20, 20, 20, 20, 20,\n",
              "       19, 19, 19, 19, 19, 19, 19, 19, 19, 18, 18, 18, 18, 18, 18, 18, 18,\n",
              "       18, 18, 18, 18, 18, 18, 18, 18, 18, 18, 18, 17, 17, 17, 17, 17, 17,\n",
              "       17, 16, 16, 16, 16, 16, 16, 16, 16, 16, 16, 16, 16, 16, 16, 16, 16,\n",
              "       16, 15, 15, 15, 15, 15, 15, 15, 15, 15, 15, 15, 15, 14, 14, 14, 14,\n",
              "       14, 14, 14, 14, 13, 13, 13, 13, 13, 13, 12, 12, 12, 12, 12, 12, 11,\n",
              "       11, 11, 11, 11, 11, 10, 10, 10, 10, 10, 10, 10,  9,  9,  9,  9,  9,\n",
              "        9,  9,  9,  9,  9,  8,  8,  8,  8,  8,  8,  8,  8,  8,  8,  8,  8,\n",
              "        8,  8,  8,  8,  8,  7,  7,  7,  7,  7,  7,  6,  6,  6,  6,  6,  6,\n",
              "        6,  6,  6,  6,  5,  5,  5,  5,  5,  5,  5,  5,  5,  5,  5,  5,  5,\n",
              "        5,  4,  4,  4,  4,  4,  4,  4,  4,  4,  4,  4,  4,  4,  4,  3,  3,\n",
              "        3,  3,  3,  3,  3,  3,  3,  3,  3,  3,  3,  3,  3,  3,  3,  3,  3,\n",
              "        2,  2,  2,  2,  2,  2,  2,  2,  2,  2,  2,  2,  2,  2,  2,  2,  2,\n",
              "        2,  2,  2,  2,  2,  2,  2,  2,  2,  2,  2,  2,  2,  2,  1,  1,  1,\n",
              "        1,  1,  1,  1,  1,  1,  1,  1,  1,  1,  1,  1,  1,  1,  1,  1,  1,\n",
              "        1,  1,  1,  1,  1,  1,  1,  1,  1,  1,  1,  1,  1,  1,  1,  1,  1,\n",
              "        1,  1,  1,  1,  1,  1,  1,  1,  1,  1,  1,  1,  1,  1,  1,  1,  1,\n",
              "        1])"
            ]
          },
          "metadata": {
            "tags": []
          },
          "execution_count": 42
        }
      ]
    },
    {
      "metadata": {
        "id": "qOk4Sh3YkYEZ",
        "colab_type": "code",
        "colab": {
          "base_uri": "https://localhost:8080/",
          "height": 376
        },
        "outputId": "aed63f27-c205-4ded-ed75-e5e1829e4ba1"
      },
      "cell_type": "code",
      "source": [
        "continent_cnts = len(country_counts_ser.values)\n",
        "plt.bar(range(continent_cnts), country_counts_ser.values)\n",
        "plt.xticks(range(continent_cnts), country_counts_ser.index)\n",
        "plt.title(\"How many villages is disagree\")\n",
        "plt.xlabel(\"disagree\")\n",
        "plt.ylabel(\"village counts\")\n",
        "plt.show()"
      ],
      "execution_count": 43,
      "outputs": [
        {
          "output_type": "display_data",
          "data": {
            "image/png": "[encoded data removed]",
            "text/plain": [
              "<matplotlib.figure.Figure at 0x7f0018b840b8>"
            ]
          },
          "metadata": {
            "tags": []
          }
        }
      ]
    },
    {
      "metadata": {
        "id": "XW-4wo6Pk3Zd",
        "colab_type": "code",
        "colab": {}
      },
      "cell_type": "code",
      "source": [
        ""
      ],
      "execution_count": 0,
      "outputs": []
    }
  ]
}